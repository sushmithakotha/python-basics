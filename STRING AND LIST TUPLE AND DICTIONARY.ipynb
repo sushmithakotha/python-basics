{
 "cells": [
  {
   "cell_type": "code",
   "execution_count": 10,
   "id": "1cf522f5",
   "metadata": {},
   "outputs": [
    {
     "data": {
      "text/plain": [
       "'Sushmitha'"
      ]
     },
     "execution_count": 10,
     "metadata": {},
     "output_type": "execute_result"
    }
   ],
   "source": [
    "#  string functions and examples \n",
    "c = 'sushmitha'\n",
    "c.capitalize()# capitalize will capitalize the first letter of string"
   ]
  },
  {
   "cell_type": "code",
   "execution_count": 4,
   "id": "0c5cc2bb",
   "metadata": {},
   "outputs": [
    {
     "data": {
      "text/plain": [
       "False"
      ]
     },
     "execution_count": 4,
     "metadata": {},
     "output_type": "execute_result"
    }
   ],
   "source": [
    "# isdigit() checks whether it is a digit\n",
    "c = 'sushm78'\n",
    "c.isdigit()"
   ]
  },
  {
   "cell_type": "code",
   "execution_count": 12,
   "id": "6f71525a",
   "metadata": {},
   "outputs": [
    {
     "data": {
      "text/plain": [
       "True"
      ]
     },
     "execution_count": 12,
     "metadata": {},
     "output_type": "execute_result"
    }
   ],
   "source": [
    "# isdigit() checks whether it is a digit\n",
    "c = '578'\n",
    "c.isdigit()"
   ]
  },
  {
   "cell_type": "code",
   "execution_count": 5,
   "id": "9eaa4628",
   "metadata": {},
   "outputs": [
    {
     "data": {
      "text/plain": [
       "'sush'"
      ]
     },
     "execution_count": 5,
     "metadata": {},
     "output_type": "execute_result"
    }
   ],
   "source": [
    "# lower() will lower the first letter of string\n",
    "c = 'Sush'\n",
    "c.lower()"
   ]
  },
  {
   "cell_type": "code",
   "execution_count": 8,
   "id": "cde21ce5",
   "metadata": {},
   "outputs": [
    {
     "data": {
      "text/plain": [
       "True"
      ]
     },
     "execution_count": 8,
     "metadata": {},
     "output_type": "execute_result"
    }
   ],
   "source": [
    "# isdigit() checks whether it is a digit\n",
    "c = '123'\n",
    "c.isdigit()"
   ]
  },
  {
   "cell_type": "code",
   "execution_count": 13,
   "id": "2cde246e",
   "metadata": {},
   "outputs": [
    {
     "data": {
      "text/plain": [
       "False"
      ]
     },
     "execution_count": 13,
     "metadata": {},
     "output_type": "execute_result"
    }
   ],
   "source": [
    "# isdigit() checks whether it is a digit\n",
    "c = 'sush'\n",
    "c.isdigit()"
   ]
  },
  {
   "cell_type": "code",
   "execution_count": 6,
   "id": "a986b819",
   "metadata": {},
   "outputs": [
    {
     "data": {
      "text/plain": [
       "True"
      ]
     },
     "execution_count": 6,
     "metadata": {},
     "output_type": "execute_result"
    }
   ],
   "source": [
    "# isalnum() checks whether the string has numbers or alphabets\n",
    "c = 'sush56'\n",
    "c.isalnum()"
   ]
  },
  {
   "cell_type": "code",
   "execution_count": 15,
   "id": "af90c0f7",
   "metadata": {},
   "outputs": [
    {
     "data": {
      "text/plain": [
       "True"
      ]
     },
     "execution_count": 15,
     "metadata": {},
     "output_type": "execute_result"
    }
   ],
   "source": [
    "# isalnum() checks whether it has number or alphabet\n",
    "c = 'sush'\n",
    "c.isalnum()"
   ]
  },
  {
   "cell_type": "code",
   "execution_count": 3,
   "id": "777edf8b",
   "metadata": {},
   "outputs": [
    {
     "data": {
      "text/plain": [
       "True"
      ]
     },
     "execution_count": 3,
     "metadata": {},
     "output_type": "execute_result"
    }
   ],
   "source": [
    "# isalnum() checks whether string consist of number\n",
    "c = 'sush96'\n",
    "c.isalnum()"
   ]
  },
  {
   "cell_type": "code",
   "execution_count": 14,
   "id": "de243390",
   "metadata": {},
   "outputs": [
    {
     "data": {
      "text/plain": [
       "True"
      ]
     },
     "execution_count": 14,
     "metadata": {},
     "output_type": "execute_result"
    }
   ],
   "source": [
    "# isalnum() checks whether string consist of number\n",
    "c = '578'\n",
    "c.isalnum()"
   ]
  },
  {
   "cell_type": "code",
   "execution_count": 15,
   "id": "fa09b42e",
   "metadata": {},
   "outputs": [
    {
     "data": {
      "text/plain": [
       "True"
      ]
     },
     "execution_count": 15,
     "metadata": {},
     "output_type": "execute_result"
    }
   ],
   "source": [
    "# isalnum() checks whether string consist of number\n",
    "c = 'sush'\n",
    "c.isalnum()"
   ]
  },
  {
   "cell_type": "code",
   "execution_count": 25,
   "id": "9e9cbc88",
   "metadata": {},
   "outputs": [
    {
     "data": {
      "text/plain": [
       "False"
      ]
     },
     "execution_count": 25,
     "metadata": {},
     "output_type": "execute_result"
    }
   ],
   "source": [
    "# islower() checks whether it is lower \n",
    "c = 'THIS is sushmitha'\n",
    "c.islower()"
   ]
  },
  {
   "cell_type": "code",
   "execution_count": 16,
   "id": "a871dbfb",
   "metadata": {},
   "outputs": [
    {
     "data": {
      "text/plain": [
       "True"
      ]
     },
     "execution_count": 16,
     "metadata": {},
     "output_type": "execute_result"
    }
   ],
   "source": [
    "# islower() checks whether it is lower\n",
    "c = 'this is sushmitha'\n",
    "c.islower()"
   ]
  },
  {
   "cell_type": "code",
   "execution_count": 27,
   "id": "9ecc6f09",
   "metadata": {},
   "outputs": [
    {
     "data": {
      "text/plain": [
       "True"
      ]
     },
     "execution_count": 27,
     "metadata": {},
     "output_type": "execute_result"
    }
   ],
   "source": [
    "# islower() checks whether it is lower\n",
    "c = ' is sushmitha'\n",
    "c.islower()"
   ]
  },
  {
   "cell_type": "code",
   "execution_count": 30,
   "id": "6003010f",
   "metadata": {},
   "outputs": [
    {
     "data": {
      "text/plain": [
       "False"
      ]
     },
     "execution_count": 30,
     "metadata": {},
     "output_type": "execute_result"
    }
   ],
   "source": [
    "#isnumeric() checks whether it is numeric \n",
    "c = 'sushm89'\n",
    "c.isnumeric()"
   ]
  },
  {
   "cell_type": "code",
   "execution_count": 17,
   "id": "1d48d615",
   "metadata": {},
   "outputs": [
    {
     "data": {
      "text/plain": [
       "True"
      ]
     },
     "execution_count": 17,
     "metadata": {},
     "output_type": "execute_result"
    }
   ],
   "source": [
    "#isnumeric() checks whether it is numeric \n",
    "c = '7996'\n",
    "c.isnumeric()"
   ]
  },
  {
   "cell_type": "code",
   "execution_count": 32,
   "id": "939adbdb",
   "metadata": {},
   "outputs": [
    {
     "data": {
      "text/plain": [
       "False"
      ]
     },
     "execution_count": 32,
     "metadata": {},
     "output_type": "execute_result"
    }
   ],
   "source": [
    "#isspace() checks whether it has space\n",
    "c = 'sushma'\n",
    "c.isspace()"
   ]
  },
  {
   "cell_type": "code",
   "execution_count": 18,
   "id": "930486ee",
   "metadata": {},
   "outputs": [
    {
     "data": {
      "text/plain": [
       "True"
      ]
     },
     "execution_count": 18,
     "metadata": {},
     "output_type": "execute_result"
    }
   ],
   "source": [
    "#isspace() checks whether it has space\n",
    "c = ' '\n",
    "c.isspace()"
   ]
  },
  {
   "cell_type": "code",
   "execution_count": 34,
   "id": "999a4e7f",
   "metadata": {},
   "outputs": [
    {
     "data": {
      "text/plain": [
       "False"
      ]
     },
     "execution_count": 34,
     "metadata": {},
     "output_type": "execute_result"
    }
   ],
   "source": [
    "#isspace() checks whether it has space\n",
    "c = 'sushm goud'\n",
    "c.isspace()"
   ]
  },
  {
   "cell_type": "code",
   "execution_count": 37,
   "id": "87fe39ae",
   "metadata": {},
   "outputs": [
    {
     "data": {
      "text/plain": [
       "False"
      ]
     },
     "execution_count": 37,
     "metadata": {},
     "output_type": "execute_result"
    }
   ],
   "source": [
    "# checks tilte it shows false because the title first every letter should be capital\n",
    "c = 'game of thrones'\n",
    "c.istitle()"
   ]
  },
  {
   "cell_type": "code",
   "execution_count": 39,
   "id": "dc0570f3",
   "metadata": {},
   "outputs": [
    {
     "data": {
      "text/plain": [
       "True"
      ]
     },
     "execution_count": 39,
     "metadata": {},
     "output_type": "execute_result"
    }
   ],
   "source": [
    "#  istitle() checks whether it is title it has title\n",
    "c = 'Game Of Thrones'\n",
    "c.istitle()"
   ]
  },
  {
   "cell_type": "code",
   "execution_count": 40,
   "id": "c1fbdf6b",
   "metadata": {},
   "outputs": [
    {
     "data": {
      "text/plain": [
       "14"
      ]
     },
     "execution_count": 40,
     "metadata": {},
     "output_type": "execute_result"
    }
   ],
   "source": [
    "# len() calculates the len of string\n",
    "c = 'sush is eating'\n",
    "len(c)"
   ]
  },
  {
   "cell_type": "code",
   "execution_count": 7,
   "id": "6a64ef14",
   "metadata": {},
   "outputs": [
    {
     "data": {
      "text/plain": [
       "15"
      ]
     },
     "execution_count": 7,
     "metadata": {},
     "output_type": "execute_result"
    }
   ],
   "source": [
    "# len() calculates the len of string\n",
    "c = 'sush is cooking'\n",
    "len(c)"
   ]
  },
  {
   "cell_type": "code",
   "execution_count": 20,
   "id": "b4eff7d3",
   "metadata": {},
   "outputs": [
    {
     "data": {
      "text/plain": [
       "['sushmitha']"
      ]
     },
     "execution_count": 20,
     "metadata": {},
     "output_type": "execute_result"
    }
   ],
   "source": [
    "# splitlines will make braces \n",
    "c = 'sushmitha'\n",
    "c.splitlines()"
   ]
  },
  {
   "cell_type": "code",
   "execution_count": 22,
   "id": "78d2b79e",
   "metadata": {},
   "outputs": [
    {
     "data": {
      "text/plain": [
       "['578']"
      ]
     },
     "execution_count": 22,
     "metadata": {},
     "output_type": "execute_result"
    }
   ],
   "source": [
    "# splitlines will make braces \n",
    "c = '578'\n",
    "c.splitlines()"
   ]
  },
  {
   "cell_type": "code",
   "execution_count": 25,
   "id": "59b13453",
   "metadata": {},
   "outputs": [
    {
     "data": {
      "text/plain": [
       "['this is sushmitha96']"
      ]
     },
     "execution_count": 25,
     "metadata": {},
     "output_type": "execute_result"
    }
   ],
   "source": [
    "# splitlines will make braces \n",
    "c = 'this is sushmitha96'\n",
    "c.splitlines()"
   ]
  },
  {
   "cell_type": "code",
   "execution_count": 29,
   "id": "fc5b54a0",
   "metadata": {},
   "outputs": [
    {
     "data": {
      "text/plain": [
       "'sush80'"
      ]
     },
     "execution_count": 29,
     "metadata": {},
     "output_type": "execute_result"
    }
   ],
   "source": [
    "#strip() gives the same string value\n",
    "c = 'sush80'\n",
    "c.strip()"
   ]
  },
  {
   "cell_type": "code",
   "execution_count": 32,
   "id": "38d0f0a5",
   "metadata": {},
   "outputs": [
    {
     "data": {
      "text/plain": [
       "'890'"
      ]
     },
     "execution_count": 32,
     "metadata": {},
     "output_type": "execute_result"
    }
   ],
   "source": [
    "#strip() gives the same string value\n",
    "c = '890'\n",
    "c.strip()"
   ]
  },
  {
   "cell_type": "code",
   "execution_count": 34,
   "id": "d9adc485",
   "metadata": {},
   "outputs": [
    {
     "data": {
      "text/plain": [
       "'THIS IS SUSHMITHA'"
      ]
     },
     "execution_count": 34,
     "metadata": {},
     "output_type": "execute_result"
    }
   ],
   "source": [
    "#swapcase() will change lower to upper case and viseversa\n",
    "c = 'this is sushmitha'\n",
    "c.swapcase()"
   ]
  },
  {
   "cell_type": "code",
   "execution_count": 36,
   "id": "9150a4a8",
   "metadata": {},
   "outputs": [
    {
     "data": {
      "text/plain": [
       "'this is sushmitha'"
      ]
     },
     "execution_count": 36,
     "metadata": {},
     "output_type": "execute_result"
    }
   ],
   "source": [
    "#swapcase() will change lower to upper case and viseversa\n",
    "c = 'THIS IS SUSHMITHA'\n",
    "c.swapcase()"
   ]
  },
  {
   "cell_type": "code",
   "execution_count": 5,
   "id": "623a4584",
   "metadata": {},
   "outputs": [
    {
     "data": {
      "text/plain": [
       "' this is sushmitha'"
      ]
     },
     "execution_count": 5,
     "metadata": {},
     "output_type": "execute_result"
    }
   ],
   "source": [
    "# casefold() coverts to case folded sting thai is upper to lower lower to upper\n",
    "c = ' This is Sushmitha'\n",
    "c.casefold()"
   ]
  },
  {
   "cell_type": "code",
   "execution_count": 17,
   "id": "e905765d",
   "metadata": {},
   "outputs": [
    {
     "data": {
      "text/plain": [
       "'                                         this is sushmitha                                          '"
      ]
     },
     "execution_count": 17,
     "metadata": {},
     "output_type": "execute_result"
    }
   ],
   "source": [
    "# centre() will centre the string according to the arugment \n",
    "c = 'this is sushmitha'\n",
    "c.center(100)"
   ]
  },
  {
   "cell_type": "code",
   "execution_count": 25,
   "id": "f648a46f",
   "metadata": {},
   "outputs": [
    {
     "data": {
      "text/plain": [
       "b'sushmitha'"
      ]
     },
     "execution_count": 25,
     "metadata": {},
     "output_type": "execute_result"
    }
   ],
   "source": [
    "#encode() returns the encoded string of given string\n",
    "c = 'sushmitha'\n",
    "c.encode()"
   ]
  },
  {
   "cell_type": "code",
   "execution_count": 23,
   "id": "2698db31",
   "metadata": {},
   "outputs": [
    {
     "data": {
      "text/plain": [
       "True"
      ]
     },
     "execution_count": 23,
     "metadata": {},
     "output_type": "execute_result"
    }
   ],
   "source": [
    "# endswith() checks if the string ends with specified suffix\n",
    "c = 'sushmitha'\n",
    "c.endswith('sushmitha')"
   ]
  },
  {
   "cell_type": "code",
   "execution_count": 36,
   "id": "cc97218f",
   "metadata": {},
   "outputs": [
    {
     "data": {
      "text/plain": [
       "'sushmitha'"
      ]
     },
     "execution_count": 36,
     "metadata": {},
     "output_type": "execute_result"
    }
   ],
   "source": [
    "# expandtabs() replaces tab character with spaces\n",
    "c = 'sushmitha'\n",
    "c.expandtabs()"
   ]
  },
  {
   "cell_type": "code",
   "execution_count": 44,
   "id": "263c144a",
   "metadata": {},
   "outputs": [
    {
     "data": {
      "text/plain": [
       "5"
      ]
     },
     "execution_count": 44,
     "metadata": {},
     "output_type": "execute_result"
    }
   ],
   "source": [
    "# returns the index of the specified string that is we mentioned (i) so it returns 5\n",
    "c = 'sushmitha is sushmitha'\n",
    "c.find('i')"
   ]
  },
  {
   "cell_type": "code",
   "execution_count": 46,
   "id": "4902b641",
   "metadata": {},
   "outputs": [
    {
     "data": {
      "text/plain": [
       "'Sushmitha'"
      ]
     },
     "execution_count": 46,
     "metadata": {},
     "output_type": "execute_result"
    }
   ],
   "source": [
    "# format () wil  format the string in to nicer output\n",
    "c = 'Sushmitha'\n",
    "c.format()"
   ]
  },
  {
   "cell_type": "code",
   "execution_count": 48,
   "id": "ddea53bf",
   "metadata": {},
   "outputs": [
    {
     "data": {
      "text/plain": [
       "'sushmitha'"
      ]
     },
     "execution_count": 48,
     "metadata": {},
     "output_type": "execute_result"
    }
   ],
   "source": [
    "# format_map()  will formats string  using dictionary\n",
    "c = 'sushmitha'\n",
    "c.format_map('s')"
   ]
  },
  {
   "cell_type": "code",
   "execution_count": 50,
   "id": "6325e95d",
   "metadata": {},
   "outputs": [
    {
     "data": {
      "text/plain": [
       "0"
      ]
     },
     "execution_count": 50,
     "metadata": {},
     "output_type": "execute_result"
    }
   ],
   "source": [
    "# index() will give the index value of the letter we given\n",
    "c = 'sushmitha'\n",
    "c.index('s')"
   ]
  },
  {
   "cell_type": "code",
   "execution_count": 52,
   "id": "d3a12b0e",
   "metadata": {},
   "outputs": [
    {
     "data": {
      "text/plain": [
       "False"
      ]
     },
     "execution_count": 52,
     "metadata": {},
     "output_type": "execute_result"
    }
   ],
   "source": [
    "# isdecimal() gives whether is it a decimal or not\n",
    "c = 'sushmitha0,87'\n",
    "c.isdecimal()\n"
   ]
  },
  {
   "cell_type": "code",
   "execution_count": 54,
   "id": "6fb465a7",
   "metadata": {},
   "outputs": [
    {
     "data": {
      "text/plain": [
       "False"
      ]
     },
     "execution_count": 54,
     "metadata": {},
     "output_type": "execute_result"
    }
   ],
   "source": [
    "c = 's0.56'\n",
    "c.isdecimal()"
   ]
  },
  {
   "cell_type": "code",
   "execution_count": 55,
   "id": "26c2539e",
   "metadata": {},
   "outputs": [
    {
     "data": {
      "text/plain": [
       "True"
      ]
     },
     "execution_count": 55,
     "metadata": {},
     "output_type": "execute_result"
    }
   ],
   "source": [
    "#isidentifier() checks for valid identifier\n",
    "c = 'sushmitha'\n",
    "c.isidentifier()"
   ]
  },
  {
   "cell_type": "code",
   "execution_count": 57,
   "id": "973ee0bf",
   "metadata": {},
   "outputs": [
    {
     "data": {
      "text/plain": [
       "True"
      ]
     },
     "execution_count": 57,
     "metadata": {},
     "output_type": "execute_result"
    }
   ],
   "source": [
    "# isprintable() checks for printable character\n",
    "c ='sush'\n",
    "c.isprintable()"
   ]
  },
  {
   "cell_type": "code",
   "execution_count": 63,
   "id": "24c81dd2",
   "metadata": {},
   "outputs": [
    {
     "data": {
      "text/plain": [
       "'ssushmitha is cookingusushmitha is cookingssushmitha is cookinghsushmitha is cookingmsushmitha is cookingisushmitha is cookingtsushmitha is cookinghsushmitha is cookingasushmitha is cooking sushmitha is cookingisushmitha is cookingssushmitha is cooking sushmitha is cookingcsushmitha is cookingosushmitha is cookingosushmitha is cookingksushmitha is cookingisushmitha is cookingnsushmitha is cookingg'"
      ]
     },
     "execution_count": 63,
     "metadata": {},
     "output_type": "execute_result"
    }
   ],
   "source": [
    "#join() used to return a concatenated string\n",
    "c = 'sushmitha is cooking'\n",
    "c.join('sushmitha is cooking')"
   ]
  },
  {
   "cell_type": "code",
   "execution_count": 67,
   "id": "db1a4078",
   "metadata": {},
   "outputs": [
    {
     "data": {
      "text/plain": [
       "'4456785456786456787456788'"
      ]
     },
     "execution_count": 67,
     "metadata": {},
     "output_type": "execute_result"
    }
   ],
   "source": [
    "c = '45678'\n",
    "c.join('45678')"
   ]
  },
  {
   "cell_type": "code",
   "execution_count": 117,
   "id": "7c23a803",
   "metadata": {},
   "outputs": [
    {
     "data": {
      "text/plain": [
       "'6789678 '"
      ]
     },
     "execution_count": 117,
     "metadata": {},
     "output_type": "execute_result"
    }
   ],
   "source": [
    "# rjust returns left justified string of given width\n",
    "c = '6789678'\n",
    "c.ljust(8)"
   ]
  },
  {
   "cell_type": "code",
   "execution_count": 90,
   "id": "8f467c81",
   "metadata": {},
   "outputs": [],
   "source": [
    "#c = 'sushmitha'\n",
    "#c.maketrans('s')"
   ]
  },
  {
   "cell_type": "code",
   "execution_count": 88,
   "id": "a4906d1e",
   "metadata": {},
   "outputs": [
    {
     "data": {
      "text/plain": [
       "('', 's', 'ushmitha')"
      ]
     },
     "execution_count": 88,
     "metadata": {},
     "output_type": "execute_result"
    }
   ],
   "source": [
    "# partition() returns a tuple and should consist of atleast one argument\n",
    "c ='sushmitha'\n",
    "c.partition('s')"
   ]
  },
  {
   "cell_type": "code",
   "execution_count": 102,
   "id": "0b659062",
   "metadata": {},
   "outputs": [
    {
     "data": {
      "text/plain": [
       "'7878'"
      ]
     },
     "execution_count": 102,
     "metadata": {},
     "output_type": "execute_result"
    }
   ],
   "source": [
    "# replace() replace substring inside stringc\n",
    "c ='5678'\n",
    "c.replace('56','78')"
   ]
  },
  {
   "cell_type": "code",
   "execution_count": 100,
   "id": "4cbbd59e",
   "metadata": {},
   "outputs": [
    {
     "data": {
      "text/plain": [
       "'eating is eating'"
      ]
     },
     "execution_count": 100,
     "metadata": {},
     "output_type": "execute_result"
    }
   ],
   "source": [
    "c = 'sushmitha is eating'\n",
    "c.replace('sushmitha','eating')"
   ]
  },
  {
   "cell_type": "code",
   "execution_count": 105,
   "id": "12b01b6e",
   "metadata": {},
   "outputs": [
    {
     "data": {
      "text/plain": [
       "1"
      ]
     },
     "execution_count": 105,
     "metadata": {},
     "output_type": "execute_result"
    }
   ],
   "source": [
    "#rfind() returns the highest index of substring\n",
    "c = 'sushmitha is eating'\n",
    "c.rfind('u')"
   ]
  },
  {
   "cell_type": "code",
   "execution_count": 113,
   "id": "2938c959",
   "metadata": {},
   "outputs": [
    {
     "data": {
      "text/plain": [
       "'    67889'"
      ]
     },
     "execution_count": 113,
     "metadata": {},
     "output_type": "execute_result"
    }
   ],
   "source": [
    "# rjust returns right justified string of given width\n",
    "c = '67889'\n",
    "c.rjust(9)"
   ]
  },
  {
   "cell_type": "code",
   "execution_count": 120,
   "id": "b2d75f74",
   "metadata": {},
   "outputs": [
    {
     "data": {
      "text/plain": [
       "('su', 's', 'hmitha')"
      ]
     },
     "execution_count": 120,
     "metadata": {},
     "output_type": "execute_result"
    }
   ],
   "source": [
    "#rpartition() returns a tuple\n",
    "c = 'sushmitha'\n",
    "c.rpartition('s')"
   ]
  },
  {
   "cell_type": "code",
   "execution_count": 121,
   "id": "65e4b3ac",
   "metadata": {},
   "outputs": [
    {
     "data": {
      "text/plain": [
       "['sushmitha']"
      ]
     },
     "execution_count": 121,
     "metadata": {},
     "output_type": "execute_result"
    }
   ],
   "source": [
    "#splits string from right\n",
    "c = 'sushmitha'\n",
    "c.rsplit()"
   ]
  },
  {
   "cell_type": "code",
   "execution_count": 122,
   "id": "e72ee584",
   "metadata": {},
   "outputs": [
    {
     "data": {
      "text/plain": [
       "['5678']"
      ]
     },
     "execution_count": 122,
     "metadata": {},
     "output_type": "execute_result"
    }
   ],
   "source": [
    "c = '5678'\n",
    "c.rsplit()"
   ]
  },
  {
   "cell_type": "code",
   "execution_count": 125,
   "id": "c85d6bc9",
   "metadata": {},
   "outputs": [
    {
     "data": {
      "text/plain": [
       "'Sushmitha'"
      ]
     },
     "execution_count": 125,
     "metadata": {},
     "output_type": "execute_result"
    }
   ],
   "source": [
    "# rstrip() removes trailing characters\n",
    "c = 'Sushmitha'\n",
    "c.rstrip()"
   ]
  },
  {
   "cell_type": "code",
   "execution_count": 126,
   "id": "9e6fb20d",
   "metadata": {},
   "outputs": [
    {
     "data": {
      "text/plain": [
       "'Sushmitha is dancing'"
      ]
     },
     "execution_count": 126,
     "metadata": {},
     "output_type": "execute_result"
    }
   ],
   "source": [
    "c = 'Sushmitha is dancing'\n",
    "c.rstrip()"
   ]
  },
  {
   "cell_type": "code",
   "execution_count": 127,
   "id": "f21bfd5d",
   "metadata": {},
   "outputs": [
    {
     "data": {
      "text/plain": [
       "['Sushmitha']"
      ]
     },
     "execution_count": 127,
     "metadata": {},
     "output_type": "execute_result"
    }
   ],
   "source": [
    "# splitlines() split string at line boundaries\n",
    "c = 'Sushmitha'\n",
    "c.splitlines()"
   ]
  },
  {
   "cell_type": "code",
   "execution_count": 131,
   "id": "a4335192",
   "metadata": {},
   "outputs": [
    {
     "data": {
      "text/plain": [
       "True"
      ]
     },
     "execution_count": 131,
     "metadata": {},
     "output_type": "execute_result"
    }
   ],
   "source": [
    "# startwith() checks if string start with the specified string if (s)in the sushmitha word is capital and mentioned the same 's' in method it shows true if not false\n",
    "c = 'Sushmitha'\n",
    "c.startswith('S')"
   ]
  },
  {
   "cell_type": "code",
   "execution_count": 133,
   "id": "dbf94f84",
   "metadata": {},
   "outputs": [
    {
     "data": {
      "text/plain": [
       "'Sushmitha'"
      ]
     },
     "execution_count": 133,
     "metadata": {},
     "output_type": "execute_result"
    }
   ],
   "source": [
    "# removes both leading and trailing characters\n",
    "c = 'Sushmitha'\n",
    "c.strip()"
   ]
  },
  {
   "cell_type": "code",
   "execution_count": 134,
   "id": "12ddb9be",
   "metadata": {},
   "outputs": [
    {
     "data": {
      "text/plain": [
       "'sUSHMITHA'"
      ]
     },
     "execution_count": 134,
     "metadata": {},
     "output_type": "execute_result"
    }
   ],
   "source": [
    "# swapcase() swap uppercase character to lower case viceversa\n",
    "c = 'Sushmitha'\n",
    "c.swapcase()"
   ]
  },
  {
   "cell_type": "code",
   "execution_count": 137,
   "id": "a114fb03",
   "metadata": {},
   "outputs": [
    {
     "data": {
      "text/plain": [
       "'SUshmitha'"
      ]
     },
     "execution_count": 137,
     "metadata": {},
     "output_type": "execute_result"
    }
   ],
   "source": [
    "# translate() returns mapped charactered string\n",
    "c = 'SUshmitha'\n",
    "c.translate('U')"
   ]
  },
  {
   "cell_type": "code",
   "execution_count": 143,
   "id": "044b60e6",
   "metadata": {},
   "outputs": [
    {
     "data": {
      "text/plain": [
       "'34567890'"
      ]
     },
     "execution_count": 143,
     "metadata": {},
     "output_type": "execute_result"
    }
   ],
   "source": [
    "# zfill() returns a copy of string padded with zero\n",
    "c = '34567890'\n",
    "c.zfill(3)"
   ]
  },
  {
   "cell_type": "code",
   "execution_count": 39,
   "id": "ad4c26bb",
   "metadata": {},
   "outputs": [
    {
     "data": {
      "text/plain": [
       "'vini'"
      ]
     },
     "execution_count": 39,
     "metadata": {},
     "output_type": "execute_result"
    }
   ],
   "source": [
    "# LIST FUNCTIONS EXAMPLES\n",
    "#[2]will display the value which  is located at index 2\n",
    "names = ['sush','mahi','vini']\n",
    "names[2]\n"
   ]
  },
  {
   "cell_type": "code",
   "execution_count": 44,
   "id": "9d20c075",
   "metadata": {},
   "outputs": [
    {
     "data": {
      "text/plain": [
       "['sush', 'mahi', 'vini', 'niha']"
      ]
     },
     "execution_count": 44,
     "metadata": {},
     "output_type": "execute_result"
    }
   ],
   "source": [
    "#append() will add the values\n",
    "names = ['sush','mahi','vini']\n",
    "names.append('niha')\n",
    "names"
   ]
  },
  {
   "cell_type": "code",
   "execution_count": 46,
   "id": "207b833b",
   "metadata": {},
   "outputs": [
    {
     "data": {
      "text/plain": [
       "['vini', 'mahi', 'sush']"
      ]
     },
     "execution_count": 46,
     "metadata": {},
     "output_type": "execute_result"
    }
   ],
   "source": [
    "#reverse() will reverse the list\n",
    "names = ['sush','mahi','vini']\n",
    "names.reverse()\n",
    "names"
   ]
  },
  {
   "cell_type": "code",
   "execution_count": 48,
   "id": "4b60a45c",
   "metadata": {},
   "outputs": [
    {
     "data": {
      "text/plain": [
       "['sush', 'mahi']"
      ]
     },
     "execution_count": 48,
     "metadata": {},
     "output_type": "execute_result"
    }
   ],
   "source": [
    "#pop() will pop out the value which is there at particular index if not it will pop out last value\n",
    "names = ['sush','mahi','vini']\n",
    "names.pop()\n",
    "names"
   ]
  },
  {
   "cell_type": "code",
   "execution_count": 145,
   "id": "73a6875b",
   "metadata": {},
   "outputs": [
    {
     "data": {
      "text/plain": [
       "['sush', 'mahi', 'vini', 'n', 'i', 'h', 'a']"
      ]
     },
     "execution_count": 145,
     "metadata": {},
     "output_type": "execute_result"
    }
   ],
   "source": [
    "# extend() splits the each letter given in the method it should have atleast one argument\n",
    "names = ['sush','mahi','vini']\n",
    "names.extend('niha')\n",
    "names"
   ]
  },
  {
   "cell_type": "code",
   "execution_count": 50,
   "id": "69d68485",
   "metadata": {},
   "outputs": [
    {
     "data": {
      "text/plain": [
       "['mahi', 'vini']"
      ]
     },
     "execution_count": 50,
     "metadata": {},
     "output_type": "execute_result"
    }
   ],
   "source": [
    "#pop() will pop out the value which is there at particular index if not it will pop out last value\n",
    "names = ['sush','mahi','vini']\n",
    "names.pop(0)\n",
    "names"
   ]
  },
  {
   "cell_type": "code",
   "execution_count": 52,
   "id": "daa69732",
   "metadata": {},
   "outputs": [
    {
     "data": {
      "text/plain": [
       "['mahi', 'vini']"
      ]
     },
     "execution_count": 52,
     "metadata": {},
     "output_type": "execute_result"
    }
   ],
   "source": [
    "# remove() will remove the values in the list\n",
    "names = ['sush','mahi','vini']\n",
    "names.remove('sush')\n",
    "names"
   ]
  },
  {
   "cell_type": "code",
   "execution_count": 54,
   "id": "527993fe",
   "metadata": {},
   "outputs": [
    {
     "data": {
      "text/plain": [
       "['mahi', 'sush', 'vini']"
      ]
     },
     "execution_count": 54,
     "metadata": {},
     "output_type": "execute_result"
    }
   ],
   "source": [
    "#sort() used to sort the the values according to alphabatic way\n",
    "names = ['sush','mahi','vini']\n",
    "names.sort()\n",
    "names"
   ]
  },
  {
   "cell_type": "code",
   "execution_count": 56,
   "id": "a6a857e8",
   "metadata": {},
   "outputs": [
    {
     "data": {
      "text/plain": [
       "['durga', 'mahi', 'niha', 'priya', 'shivani', 'sush', 'vini']"
      ]
     },
     "execution_count": 56,
     "metadata": {},
     "output_type": "execute_result"
    }
   ],
   "source": [
    "#sort() used to sort the the values according to alphabatic way\n",
    "names = ['sush','mahi','vini','niha','durga','shivani','priya']\n",
    "names.sort()\n",
    "names"
   ]
  },
  {
   "cell_type": "code",
   "execution_count": 58,
   "id": "b0f7e45f",
   "metadata": {},
   "outputs": [
    {
     "data": {
      "text/plain": [
       "['sush', 'niha', 'mahi', 'vini']"
      ]
     },
     "execution_count": 58,
     "metadata": {},
     "output_type": "execute_result"
    }
   ],
   "source": [
    "# insert used to insert soe value at end or at particular index\n",
    "names = ['sush','mahi','vini']\n",
    "names.insert(1,'niha')\n",
    "names"
   ]
  },
  {
   "cell_type": "code",
   "execution_count": 62,
   "id": "e3246e1d",
   "metadata": {},
   "outputs": [
    {
     "name": "stdout",
     "output_type": "stream",
     "text": [
      "1\n"
     ]
    }
   ],
   "source": [
    "# index will show the index num of that particular value\n",
    "names = ['sush','mahi','vini']\n",
    "s = names.index('mahi')\n",
    "print(s)"
   ]
  },
  {
   "cell_type": "code",
   "execution_count": 73,
   "id": "d6debd7c",
   "metadata": {},
   "outputs": [
    {
     "data": {
      "text/plain": [
       "['sush', 'mahi', 'vini']"
      ]
     },
     "execution_count": 73,
     "metadata": {},
     "output_type": "execute_result"
    }
   ],
   "source": [
    "# copy will copy the older list values to new list\n",
    "names = ['sush','mahi','vini']\n",
    "s = names.copy()\n",
    "s"
   ]
  },
  {
   "cell_type": "code",
   "execution_count": 75,
   "id": "64c0dd31",
   "metadata": {},
   "outputs": [
    {
     "data": {
      "text/plain": [
       "[]"
      ]
     },
     "execution_count": 75,
     "metadata": {},
     "output_type": "execute_result"
    }
   ],
   "source": [
    "# clear used to clear values\n",
    "names = ['sush','mahi','vini']\n",
    "names.clear()\n",
    "names"
   ]
  },
  {
   "cell_type": "code",
   "execution_count": 82,
   "id": "8f716743",
   "metadata": {},
   "outputs": [
    {
     "data": {
      "text/plain": [
       "['sush', 'vini']"
      ]
     },
     "execution_count": 82,
     "metadata": {},
     "output_type": "execute_result"
    }
   ],
   "source": [
    "# del() used to delet the value by specifying the index no\n",
    "names = ['sush','mahi','vini']\n",
    "del names[1]\n",
    "names"
   ]
  },
  {
   "cell_type": "code",
   "execution_count": 82,
   "id": "39903548",
   "metadata": {},
   "outputs": [
    {
     "name": "stdout",
     "output_type": "stream",
     "text": [
      "1\n"
     ]
    }
   ],
   "source": [
    "# count() will count how many times a value has repeated\n",
    "names = ['sush','mahi','vini']\n",
    "s = names.count('mahi')\n",
    "print(s)"
   ]
  },
  {
   "cell_type": "code",
   "execution_count": 81,
   "id": "fbef4e62",
   "metadata": {},
   "outputs": [
    {
     "name": "stdout",
     "output_type": "stream",
     "text": [
      "5\n"
     ]
    }
   ],
   "source": [
    "# count() will count how many times a value has repeated\n",
    "num = [1,3,8,9,4,8,0,4,6,7,8,8,8]\n",
    "s = num.count(8)\n",
    "print(s)"
   ]
  },
  {
   "cell_type": "code",
   "execution_count": 95,
   "id": "f1b67907",
   "metadata": {},
   "outputs": [
    {
     "name": "stdout",
     "output_type": "stream",
     "text": [
      "mahi\n"
     ]
    }
   ],
   "source": [
    "# min() will display min value\n",
    "names = ['sush','mahi','vini']\n",
    "print(min(names))"
   ]
  },
  {
   "cell_type": "code",
   "execution_count": 97,
   "id": "35b55b8c",
   "metadata": {},
   "outputs": [
    {
     "name": "stdout",
     "output_type": "stream",
     "text": [
      "vini\n"
     ]
    }
   ],
   "source": [
    "# max will display max value\n",
    "names = ['sush','mahi','vini']\n",
    "print(max(names))"
   ]
  },
  {
   "cell_type": "code",
   "execution_count": 99,
   "id": "0f4c41ca",
   "metadata": {},
   "outputs": [
    {
     "name": "stdout",
     "output_type": "stream",
     "text": [
      "0\n"
     ]
    }
   ],
   "source": [
    "# min() will display min value\n",
    "num = [1,3,8,9,4,8,0,4,6,7,8,8,8]\n",
    "print(min(num))"
   ]
  },
  {
   "cell_type": "code",
   "execution_count": 101,
   "id": "33e67c3b",
   "metadata": {},
   "outputs": [
    {
     "name": "stdout",
     "output_type": "stream",
     "text": [
      "9\n"
     ]
    }
   ],
   "source": [
    "# max will display max value\n",
    "num = [1,3,8,9,4,8,0,4,6,7,8,8,8]\n",
    "print(max(num))"
   ]
  },
  {
   "cell_type": "code",
   "execution_count": 103,
   "id": "246a54dd",
   "metadata": {},
   "outputs": [
    {
     "data": {
      "text/plain": [
       "list"
      ]
     },
     "execution_count": 103,
     "metadata": {},
     "output_type": "execute_result"
    }
   ],
   "source": [
    "# type() displya which type it is\n",
    "names = ['sush','mahi','vini']\n",
    "type(names)"
   ]
  },
  {
   "cell_type": "code",
   "execution_count": 1,
   "id": "50256bb3",
   "metadata": {},
   "outputs": [
    {
     "data": {
      "text/plain": [
       "3"
      ]
     },
     "execution_count": 1,
     "metadata": {},
     "output_type": "execute_result"
    }
   ],
   "source": [
    "# len will display how much length it is\n",
    "names = ['sush','mahi','vini']\n",
    "len(names)"
   ]
  },
  {
   "cell_type": "code",
   "execution_count": 4,
   "id": "e3b109c9",
   "metadata": {},
   "outputs": [
    {
     "name": "stdout",
     "output_type": "stream",
     "text": [
      "2\n"
     ]
    }
   ],
   "source": [
    "# tuple function examples\n",
    "# min() will give minimum value\n",
    "num = (2,6,7,9,4)\n",
    "print(min(num))"
   ]
  },
  {
   "cell_type": "code",
   "execution_count": 7,
   "id": "1b13c2b4",
   "metadata": {},
   "outputs": [
    {
     "name": "stdout",
     "output_type": "stream",
     "text": [
      "34\n"
     ]
    }
   ],
   "source": [
    "# max will give the maximum value\n",
    "num = (3,6,8,9,8,9,3,5,10,34)\n",
    "print(max(num))"
   ]
  },
  {
   "cell_type": "code",
   "execution_count": 9,
   "id": "dedb1f4e",
   "metadata": {},
   "outputs": [
    {
     "data": {
      "text/plain": [
       "10"
      ]
     },
     "execution_count": 9,
     "metadata": {},
     "output_type": "execute_result"
    }
   ],
   "source": [
    "# len will give the length of list\n",
    "num = (3,6,8,9,8,9,3,5,10,34)\n",
    "len(num)"
   ]
  },
  {
   "cell_type": "code",
   "execution_count": 23,
   "id": "77fd0142",
   "metadata": {},
   "outputs": [
    {
     "data": {
      "text/plain": [
       "1"
      ]
     },
     "execution_count": 23,
     "metadata": {},
     "output_type": "execute_result"
    }
   ],
   "source": [
    "# index gives index value\n",
    "num = (5,8,9,5,3,2)\n",
    "num.index(8)"
   ]
  },
  {
   "cell_type": "code",
   "execution_count": 25,
   "id": "3aa41197",
   "metadata": {},
   "outputs": [
    {
     "data": {
      "text/plain": [
       "2"
      ]
     },
     "execution_count": 25,
     "metadata": {},
     "output_type": "execute_result"
    }
   ],
   "source": [
    "# count() gives how many times a value repeated\n",
    "num =(3,7,8,5,7,3,6,6,7,9,5,6,6,)\n",
    "num.count(3)"
   ]
  },
  {
   "cell_type": "code",
   "execution_count": 27,
   "id": "865db9ef",
   "metadata": {},
   "outputs": [
    {
     "data": {
      "text/plain": [
       "4"
      ]
     },
     "execution_count": 27,
     "metadata": {},
     "output_type": "execute_result"
    }
   ],
   "source": [
    "num = (3,7,8,5,7,3,6,6,7,9,5,6,6,)\n",
    "num.count(6)"
   ]
  },
  {
   "cell_type": "code",
   "execution_count": 29,
   "id": "9f275905",
   "metadata": {},
   "outputs": [
    {
     "data": {
      "text/plain": [
       "3"
      ]
     },
     "execution_count": 29,
     "metadata": {},
     "output_type": "execute_result"
    }
   ],
   "source": [
    "# dictionary examples\n",
    "#len() gives length of dictionary\n",
    "details = {'name' : 'sushmitha', 'age' : 25, 'phno' : 467456789}\n",
    "len(details)"
   ]
  },
  {
   "cell_type": "code",
   "execution_count": 33,
   "id": "cf9f7fcc",
   "metadata": {},
   "outputs": [
    {
     "data": {
      "text/plain": [
       "{'name': 'sushmitha', 'phno': 467456789}"
      ]
     },
     "execution_count": 33,
     "metadata": {},
     "output_type": "execute_result"
    }
   ],
   "source": [
    "# del( ) used to delet value\n",
    "details = {'name' : 'sushmitha', 'age' : 25, 'phno' : 467456789}\n",
    "del details['age']\n",
    "details"
   ]
  },
  {
   "cell_type": "code",
   "execution_count": 35,
   "id": "e39b775f",
   "metadata": {},
   "outputs": [
    {
     "data": {
      "text/plain": [
       "dict_items([('name', 'sushmitha'), ('age', 25), ('phno', 467456789)])"
      ]
     },
     "execution_count": 35,
     "metadata": {},
     "output_type": "execute_result"
    }
   ],
   "source": [
    "#items() used to display all items in dict\n",
    "details = {'name' : 'sushmitha', 'age' : 25, 'phno' : 467456789}\n",
    "details.items()"
   ]
  },
  {
   "cell_type": "code",
   "execution_count": 37,
   "id": "e2a27b11",
   "metadata": {},
   "outputs": [
    {
     "data": {
      "text/plain": [
       "dict_keys(['name', 'age', 'phno'])"
      ]
     },
     "execution_count": 37,
     "metadata": {},
     "output_type": "execute_result"
    }
   ],
   "source": [
    "# key() display all keys\n",
    "details = {'name' : 'sushmitha', 'age' : 25, 'phno' : 467456789}\n",
    "details.keys()"
   ]
  },
  {
   "cell_type": "code",
   "execution_count": 148,
   "id": "905d4ff3",
   "metadata": {},
   "outputs": [
    {
     "data": {
      "text/plain": [
       "'uppal'"
      ]
     },
     "execution_count": 148,
     "metadata": {},
     "output_type": "execute_result"
    }
   ],
   "source": [
    "#setdefault() insert keys with a value if key is not present and it should have atleast one argument\n",
    "details = {'name' : 'sushmitha', 'age' : 25, 'phno' : 467456789}\n",
    "details.setdefault('add','uppal')"
   ]
  },
  {
   "cell_type": "code",
   "execution_count": 39,
   "id": "1ebcbe95",
   "metadata": {},
   "outputs": [
    {
     "data": {
      "text/plain": [
       "dict_values(['sushmitha', 25, 467456789])"
      ]
     },
     "execution_count": 39,
     "metadata": {},
     "output_type": "execute_result"
    }
   ],
   "source": [
    "# values() display all values of dic\n",
    "details = {'name' : 'sushmitha', 'age' : 25, 'phno' : 467456789}\n",
    "details.values()"
   ]
  },
  {
   "cell_type": "code",
   "execution_count": 41,
   "id": "b60b4743",
   "metadata": {},
   "outputs": [
    {
     "data": {
      "text/plain": [
       "dict"
      ]
     },
     "execution_count": 41,
     "metadata": {},
     "output_type": "execute_result"
    }
   ],
   "source": [
    "#type() give what function it is\n",
    "details = {'name' : 'sushmitha', 'age' : 25, 'phno' : 467456789}\n",
    "type(details)"
   ]
  },
  {
   "cell_type": "code",
   "execution_count": 45,
   "id": "8e7546af",
   "metadata": {},
   "outputs": [
    {
     "name": "stdout",
     "output_type": "stream",
     "text": [
      "{'name': 'sushmitha', 'age': 25, 'phno': 467456789} {'name': 'sushmitha', 'age': 25, 'phno': 467456789}\n"
     ]
    }
   ],
   "source": [
    "# copy() used to copy older dictionary values to newer one\n",
    "details = {'name' : 'sushmitha', 'age' : 25, 'phno' : 467456789}\n",
    "newdetails = details.copy()\n",
    "print(details,newdetails)\n"
   ]
  },
  {
   "cell_type": "code",
   "execution_count": 51,
   "id": "b7136857",
   "metadata": {},
   "outputs": [
    {
     "data": {
      "text/plain": [
       "26"
      ]
     },
     "execution_count": 51,
     "metadata": {},
     "output_type": "execute_result"
    }
   ],
   "source": [
    "# updating the dictionary\n",
    "details = {'name' : 'sushmitha', 'age' : 25, 'phno' : 467456789}\n",
    "details['age'] = 26\n",
    "details['age']"
   ]
  },
  {
   "cell_type": "code",
   "execution_count": 70,
   "id": "df6cb8af",
   "metadata": {},
   "outputs": [
    {
     "data": {
      "text/plain": [
       "{'name': 'sushmitha', 'age': 26, 'phno': 467456789}"
      ]
     },
     "execution_count": 70,
     "metadata": {},
     "output_type": "execute_result"
    }
   ],
   "source": [
    "# updating the dictionary\n",
    "details = {'name' : 'sushmitha', 'age' : 25, 'phno' : 467456789}\n",
    "details.update(age = 26)\n",
    "details"
   ]
  },
  {
   "cell_type": "code",
   "execution_count": 68,
   "id": "079ca84b",
   "metadata": {},
   "outputs": [
    {
     "data": {
      "text/plain": [
       "{'age': 25, 'phno': 3456789087654}"
      ]
     },
     "execution_count": 68,
     "metadata": {},
     "output_type": "execute_result"
    }
   ],
   "source": [
    "# del() used to delet \n",
    "details = {'name':'sushmitha','age':25,'phno':3456789087654}\n",
    "del details['name']\n",
    "details"
   ]
  },
  {
   "cell_type": "code",
   "execution_count": 71,
   "id": "782bffce",
   "metadata": {},
   "outputs": [
    {
     "data": {
      "text/plain": [
       "dict"
      ]
     },
     "execution_count": 71,
     "metadata": {},
     "output_type": "execute_result"
    }
   ],
   "source": [
    "#type() used to display which type it is\n",
    "details = {'name':'sushmitha','age':25,'phno':3456789087654}\n",
    "type(details)"
   ]
  },
  {
   "cell_type": "code",
   "execution_count": 73,
   "id": "87eeb899",
   "metadata": {},
   "outputs": [
    {
     "data": {
      "text/plain": [
       "531441"
      ]
     },
     "execution_count": 73,
     "metadata": {},
     "output_type": "execute_result"
    }
   ],
   "source": [
    "#numbers example\n",
    "#pow() gives power of two numbers\n",
    "pow(9,6)"
   ]
  }
 ],
 "metadata": {
  "kernelspec": {
   "display_name": "Python 3 (ipykernel)",
   "language": "python",
   "name": "python3"
  },
  "language_info": {
   "codemirror_mode": {
    "name": "ipython",
    "version": 3
   },
   "file_extension": ".py",
   "mimetype": "text/x-python",
   "name": "python",
   "nbconvert_exporter": "python",
   "pygments_lexer": "ipython3",
   "version": "3.9.12"
  }
 },
 "nbformat": 4,
 "nbformat_minor": 5
}
